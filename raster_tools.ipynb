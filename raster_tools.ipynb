{
 "cells": [
  {
   "cell_type": "code",
   "execution_count": null,
   "metadata": {},
   "outputs": [],
   "source": [
    "# MERGE\n",
    "# run in geo_env\n",
    "\n",
    "from rasterio.plot import show\n",
    "from rasterio.merge import merge\n",
    "import rasterio as rio\n",
    "from pathlib import Path\n",
    "import glob\n",
    "import geopandas as gpd"
   ]
  },
  {
   "cell_type": "code",
   "execution_count": null,
   "metadata": {},
   "outputs": [],
   "source": [
    "#folder with dem tifs\n",
    "in_dir = r\"C:\\Users\\tfo46\\OneDrive - University of Canterbury\\Tara_PhD\\c_PhD\\c_Data\\a_source\\dem_data\\nz_hawkes_bay_LiDAR\\lds-hawkes-bay-lidar-1m-dem-2020-GTiff\"\n",
    "\n",
    "out_dir = r\"C:\\Users\\tfo46\\OneDrive - University of Canterbury\\Tara_PhD\\c_PhD\\c_Data\\a_source\\dem_data\\nz_hawkes_bay_LiDAR\\1m_mosaic\"\n",
    "\n",
    "path = Path(in_dir)\n",
    "Path(out_dir).mkdir(exist_ok=True)\n",
    "output_path = os.path.join(out_dir, 'HBRC_dem_2020.tif')\n",
    "\n",
    "all_files = in_dir + \"/*.tif\"\n",
    "in_tifs = glob.glob(all_files)\n",
    "\n",
    "raster2mosaic = []\n",
    "in_tifs [:5]"
   ]
  },
  {
   "cell_type": "code",
   "execution_count": 5,
   "metadata": {},
   "outputs": [
    {
     "data": {
      "text/plain": [
       "['C:\\\\Users\\\\tfo46\\\\OneDrive - University of Canterbury\\\\Tara_PhD\\\\c_PhD\\\\c_Data\\\\a_source\\\\dem_data\\\\lds-nz-8m-digital-elevation-model-2012-GTiff\\\\NG.tif',\n",
       " 'C:\\\\Users\\\\tfo46\\\\OneDrive - University of Canterbury\\\\Tara_PhD\\\\c_PhD\\\\c_Data\\\\a_source\\\\dem_data\\\\lds-nz-8m-digital-elevation-model-2012-GTiff\\\\NH.tif',\n",
       " 'C:\\\\Users\\\\tfo46\\\\OneDrive - University of Canterbury\\\\Tara_PhD\\\\c_PhD\\\\c_Data\\\\a_source\\\\dem_data\\\\lds-nz-8m-digital-elevation-model-2012-GTiff\\\\NI.tif',\n",
       " 'C:\\\\Users\\\\tfo46\\\\OneDrive - University of Canterbury\\\\Tara_PhD\\\\c_PhD\\\\c_Data\\\\a_source\\\\dem_data\\\\lds-nz-8m-digital-elevation-model-2012-GTiff\\\\NJ.tif',\n",
       " 'C:\\\\Users\\\\tfo46\\\\OneDrive - University of Canterbury\\\\Tara_PhD\\\\c_PhD\\\\c_Data\\\\a_source\\\\dem_data\\\\lds-nz-8m-digital-elevation-model-2012-GTiff\\\\OF.tif']"
      ]
     },
     "execution_count": 5,
     "metadata": {},
     "output_type": "execute_result"
    }
   ],
   "source": [
    "# USE FOR INDEX TILES\n",
    "#import list of index files to merge\n",
    "#shp_path = r\"C:\\Users\\tfo46\\OneDrive - University of Canterbury\\Tara_PhD\\c_PhD\\c_Data\\b_derived\\mod_model_files\\base_v1_20220909\\dem_index_tiles.shp\"\n",
    "\n",
    "#index_shp = gpd.read_file(shp_path)\n",
    "#in_tifs = [os.path.join(in_dir, 'DEM_' + i[:4] +'_2020'+ i[4:] + '.tif') for i in index_shp['tilename']]\n"
   ]
  },
  {
   "cell_type": "code",
   "execution_count": 7,
   "metadata": {},
   "outputs": [],
   "source": [
    "for p in in_tifs:\n",
    "    raster = rio.open(p)\n",
    "    raster2mosaic.append(raster)"
   ]
  },
  {
   "cell_type": "code",
   "execution_count": 8,
   "metadata": {},
   "outputs": [
    {
     "data": {
      "text/plain": [
       "[<open DatasetReader name='C:/Users/tfo46/OneDrive - University of Canterbury/Tara_PhD/c_PhD/c_Data/a_source/dem_data/lds-nz-8m-digital-elevation-model-2012-GTiff/NG.tif' mode='r'>,\n",
       " <open DatasetReader name='C:/Users/tfo46/OneDrive - University of Canterbury/Tara_PhD/c_PhD/c_Data/a_source/dem_data/lds-nz-8m-digital-elevation-model-2012-GTiff/NH.tif' mode='r'>,\n",
       " <open DatasetReader name='C:/Users/tfo46/OneDrive - University of Canterbury/Tara_PhD/c_PhD/c_Data/a_source/dem_data/lds-nz-8m-digital-elevation-model-2012-GTiff/NI.tif' mode='r'>,\n",
       " <open DatasetReader name='C:/Users/tfo46/OneDrive - University of Canterbury/Tara_PhD/c_PhD/c_Data/a_source/dem_data/lds-nz-8m-digital-elevation-model-2012-GTiff/NJ.tif' mode='r'>,\n",
       " <open DatasetReader name='C:/Users/tfo46/OneDrive - University of Canterbury/Tara_PhD/c_PhD/c_Data/a_source/dem_data/lds-nz-8m-digital-elevation-model-2012-GTiff/OF.tif' mode='r'>]"
      ]
     },
     "execution_count": 8,
     "metadata": {},
     "output_type": "execute_result"
    }
   ],
   "source": [
    "raster2mosaic[:5]"
   ]
  },
  {
   "cell_type": "code",
   "execution_count": 9,
   "metadata": {},
   "outputs": [],
   "source": [
    "mosaic, output = merge(raster2mosaic)"
   ]
  },
  {
   "cell_type": "code",
   "execution_count": 10,
   "metadata": {},
   "outputs": [],
   "source": [
    "output_meta = raster.meta.copy()\n",
    "output_meta.update(\n",
    "    {\"driver\": \"GTiff\",\n",
    "        \"height\": mosaic.shape[1],\n",
    "        \"width\": mosaic.shape[2],\n",
    "        \"transform\": output,\n",
    "    }\n",
    ")"
   ]
  },
  {
   "cell_type": "code",
   "execution_count": 11,
   "metadata": {},
   "outputs": [],
   "source": [
    "with rio.open(output_path, 'w', **output_meta) as m:\n",
    "    m.write(mosaic)"
   ]
  }
 ],
 "metadata": {
  "kernelspec": {
   "display_name": "Python 3.9.13 ('geo_env')",
   "language": "python",
   "name": "python3"
  },
  "language_info": {
   "codemirror_mode": {
    "name": "ipython",
    "version": 3
   },
   "file_extension": ".py",
   "mimetype": "text/x-python",
   "name": "python",
   "nbconvert_exporter": "python",
   "pygments_lexer": "ipython3",
   "version": "3.9.13"
  },
  "orig_nbformat": 4,
  "vscode": {
   "interpreter": {
    "hash": "88caa21874eccd24398cb91904ada17adb787e4af832ed27d5ecbe2d5468e23d"
   }
  }
 },
 "nbformat": 4,
 "nbformat_minor": 2
}
